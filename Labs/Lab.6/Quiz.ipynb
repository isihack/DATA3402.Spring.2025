{
 "cells": [
  {
   "cell_type": "code",
   "execution_count": 8,
   "id": "c266e44f-0085-4b77-8021-00a2ab2563b0",
   "metadata": {},
   "outputs": [],
   "source": [
    "def make_deck():\n",
    "    # Define the four suits of a standard deck of cards\n",
    "    suits = ['Clubs', 'Diamonds', 'Hearts', 'Spades']\n",
    "    \n",
    "    # Define the values in each suit: 2-10, Jack, Queen, King, Ace\n",
    "    values = list(range(2, 11)) + ['Jack', 'Queen', 'King', 'Ace']\n",
    "    \n",
    "    # Initialize an empty list to store the deck of cards\n",
    "    deck = []\n",
    "    \n",
    "    # Loop through each suit\n",
    "    for suit in suits:\n",
    "        # Loop through each value within the suit\n",
    "        for value in values:\n",
    "            # Add a tuple (suit, value) to the deck list for each card\n",
    "            deck.append((suit, value))\n",
    "    \n",
    "    # Return the complete deck of 52 cards as a list of tuples\n",
    "    return deck\n"
   ]
  },
  {
   "cell_type": "code",
   "execution_count": 10,
   "id": "ee6726a4-9ff5-48fe-9b5b-35a8b47c4e98",
   "metadata": {},
   "outputs": [
    {
     "data": {
      "text/plain": [
       "[('Clubs', 2),\n",
       " ('Clubs', 3),\n",
       " ('Clubs', 4),\n",
       " ('Clubs', 5),\n",
       " ('Clubs', 6),\n",
       " ('Clubs', 7),\n",
       " ('Clubs', 8),\n",
       " ('Clubs', 9),\n",
       " ('Clubs', 10),\n",
       " ('Clubs', 'Jack'),\n",
       " ('Clubs', 'Queen'),\n",
       " ('Clubs', 'King'),\n",
       " ('Clubs', 'Ace'),\n",
       " ('Diamonds', 2),\n",
       " ('Diamonds', 3),\n",
       " ('Diamonds', 4),\n",
       " ('Diamonds', 5),\n",
       " ('Diamonds', 6),\n",
       " ('Diamonds', 7),\n",
       " ('Diamonds', 8),\n",
       " ('Diamonds', 9),\n",
       " ('Diamonds', 10),\n",
       " ('Diamonds', 'Jack'),\n",
       " ('Diamonds', 'Queen'),\n",
       " ('Diamonds', 'King'),\n",
       " ('Diamonds', 'Ace'),\n",
       " ('Hearts', 2),\n",
       " ('Hearts', 3),\n",
       " ('Hearts', 4),\n",
       " ('Hearts', 5),\n",
       " ('Hearts', 6),\n",
       " ('Hearts', 7),\n",
       " ('Hearts', 8),\n",
       " ('Hearts', 9),\n",
       " ('Hearts', 10),\n",
       " ('Hearts', 'Jack'),\n",
       " ('Hearts', 'Queen'),\n",
       " ('Hearts', 'King'),\n",
       " ('Hearts', 'Ace'),\n",
       " ('Spades', 2),\n",
       " ('Spades', 3),\n",
       " ('Spades', 4),\n",
       " ('Spades', 5),\n",
       " ('Spades', 6),\n",
       " ('Spades', 7),\n",
       " ('Spades', 8),\n",
       " ('Spades', 9),\n",
       " ('Spades', 10),\n",
       " ('Spades', 'Jack'),\n",
       " ('Spades', 'Queen'),\n",
       " ('Spades', 'King'),\n",
       " ('Spades', 'Ace')]"
      ]
     },
     "execution_count": 10,
     "metadata": {},
     "output_type": "execute_result"
    }
   ],
   "source": [
    "make_deck()"
   ]
  }
 ],
 "metadata": {
  "kernelspec": {
   "display_name": "Python [conda env:base] *",
   "language": "python",
   "name": "conda-base-py"
  },
  "language_info": {
   "codemirror_mode": {
    "name": "ipython",
    "version": 3
   },
   "file_extension": ".py",
   "mimetype": "text/x-python",
   "name": "python",
   "nbconvert_exporter": "python",
   "pygments_lexer": "ipython3",
   "version": "3.12.7"
  }
 },
 "nbformat": 4,
 "nbformat_minor": 5
}
