{
 "cells": [
  {
   "cell_type": "markdown",
   "metadata": {
    "jupyter": {
     "source_hidden": true
    }
   },
   "source": [
    "# Lab 3\n",
    "\n",
    "In this lab we will become familiar with distributions, histograms, and functional programming. Do not use numpy or any other library for this lab.\n",
    "\n",
    "Before that, lets get setup homework submission and submit your previous lab.  \n",
    "\n",
    "## Working on the Command-line.\n",
    "\n",
    "It is important for you to learn to work on the command line and to be familiar with the Unix environment (e.g. Linux, Mac OS, or Windows Linux Subsystem). We'll go over working on the command-line in detail later in the course.\n",
    "\n",
    "You are required to submit your work in this course via GitHub. Today in class, you will setup everything on the command-line.\n",
    "\n",
    "### Command-line basics\n",
    "\n",
    "There is plenty of material online that will help you figure out how to do various tasks on the command line. Commands you may need to know today:\n",
    "\n",
    "* `ls`: lists the contents of the current directory.\n",
    "* `pwd`: prints the path of the current directory.\n",
    "* `cd <directory>`: changes your current directory to the specified directory.\n",
    "* `cd ..`: changes current directory to the previous directory. Basically steps out of the current directory to the directory containing the current directory.\n",
    "* `mkdir <directory>`: create a new directory with the specified name.\n",
    "* `rmdir <directory>`: removes the specified directory. Note it has to be empty.\n",
    "* `rm <filename>`: deletes the specified file.\n",
    "* `mv <filename 1> <filename 2>`: Moves or renames a file.\n",
    "* `cp <filename 1> <filename 2>`: copies an file. If you just provide a path to a directory, it copies the file into that directory with the same filename. If you specifiy a new filename, the copy has a new name. For example `cp File.1.txt File.2.txt` creates a copy of `File.1.txt` with the name `File.2.txt`. Meanwhile `cp File.1.txt my_directory`, where `my_directory` is a directory, creates a copy of `File.1.txt` in directory `my_directory` with the name `File.1.txt`.\n",
    "\n",
    "For reference, here are some example resources I found by googling:\n",
    "\n",
    "* Paths and Wildcards: https://www.warp.dev/terminus/linux-wildcards\n",
    "* Basic commands like copy: https://kb.iu.edu/d/afsk\n",
    "* General introduction to shell: https://github-pages.ucl.ac.uk/RCPSTrainingMaterials/HPCandHTCusingLegion/2_intro_to_shell.html\n",
    "* Manual pages: https://www.geeksforgeeks.org/linux-man-page-entries-different-types/?ref=ml_lbp\n",
    "* Chaining commands: https://www.geeksforgeeks.org/chaining-commands-in-linux/?ref=ml_lbp\n",
    "* Piping: https://www.geeksforgeeks.org/piping-in-unix-or-linux/\n",
    "* Using sed: https://www.geeksforgeeks.org/sed-command-linux-set-2/?ref=ml_lbp\n",
    "* Various Unix commands: https://www.geeksforgeeks.org/linux-commands/?ref=lbp\n",
    "* Cheat sheets:\n",
    "    * https://www.stationx.net/unix-commands-cheat-sheet/\n",
    "    * https://cheatography.com/davechild/cheat-sheets/linux-command-line/\n",
    "    * https://www.theknowledgeacademy.com/blog/unix-commands-cheat-sheet/\n",
    "    \n",
    "These aren't necessarily the best resources. Feel free to search for better ones. Also, don't forget that Unix has built-in manual pages for all of its commands. Just type `man <command>` at the command prompt. Use the space-bar to scroll through the documentation and \"q\" to exit.\n",
    "\n",
    "\n",
    "### Setup and Submission\n",
    "\n",
    "Our course repository is public. The instructions here aim to have you setup a fork of the course repository. Unfortunately because you are forking a public repo, your fork will have to be public also. \n",
    "\n",
    "You should be familiar with git from the first semester of this course. I assume that you all have github accounts and have setup things to be able to [push to github using ssh](https://docs.github.com/en/github/authenticating-to-github/connecting-to-github-with-ssh). The instuctions here lead you to:\n",
    "\n",
    "We'll overview what you will do before going through step by step instructions.\n",
    "\n",
    "1. Setup:\n",
    "    1. Fork the class repository. Some directions in [fork-a-repo](https://docs.github.com/en/github/getting-started-with-github/fork-a-repo).\n",
    "    1. Create a directory on your personal system where you will keep all course materials.\n",
    "    1. In that directory, clone your fork of the repository.\n",
    "    1. Using `git remote`, set the upstream to be the class repo, so you can pull from the class and push to your fork.\n",
    "\n",
    "1. Submission:\n",
    "    1. Copy your solutions into the appropriate directory (e.g. into `Labs/Lab.2/`) and with appropriate filename `Lab.2.solution.ipynb'.\n",
    "    1. Commit / push your solutions.\n",
    "    1. Grant access to course instructors.\n",
    "\n",
    "Below are step by step instructions with examples (including example directory naming convention). Feel free to modify things as you see fit. \n",
    "\n",
    "#### Setup\n",
    "You should only need to follow this instructions once. Here are some useful git commands:\n",
    "\n",
    "* Git help: `git help`\n",
    "* Git remote help: `git help remote`\n",
    "* Check remote status: `git remote -v`\n",
    "* Add a remote: `git remote add <stream name> <repo URL>`\n",
    "* Add a remove: `git remote remove <stream name>`\n",
    "\n",
    "Steps:\n",
    "1. In a browser, log into GitHub and navigate to the [course repository](https://github.com/UTA-DataScience/DATA3402.Spring.2025).\n",
    "1. On the top right of the page, press the fork button to create a new fork into your own GitHub account.\n",
    "1. After successful fork, you should find the browser showing your fork of the course repository. Use the green \"Code\" button to copy path to the repo into your the clipboard of your computer.\n",
    "1. Open a shell on your personal computer.\n",
    "1. If you have not done so already, create a new directory/folder where you will keep all course material to navigate to it. For example: `mkdir Data-3402` and `cd Data-3402`.\n",
    "1. Clone your fork of the repository using `git clone` followed by the path you copied into your clipboard. (copy/paste)\n",
    "1. Paste the URL to your fork in the worksheet for the TAs and instructors.\n",
    "1. Now go into the directory of your clone (`cd DATA3402.Spring.2025`).\n",
    "1. Type `git remote -v` to see the current setup for fetch and pull.\n",
    "1. Note the URL you see. This should be the same as what you used for your clone for both push and fetch.\n",
    "1. Delete the origin remote using `git remote remove origin`.\n",
    "1. Add the course repo as your remote using `git remote add origin https://github.com/UTA-DataScience/DATA3402.Spring.2025.git`.\n",
    "1. Change the push to point to your fork. This means you will need the URL to your clone we copied earlier and confirmed as the original origin. The command will look something like: `git remote set-url --push origin  https://github.com/XXXXXX/DATA3402.Spring.2025.git`, where XXXXX is your username on GitHub.\n",
    "1. Note that if you setup everything correctly, you now should be able to do `git pull` to get updates from the course repo, and do `git push` to push your commits into your own fork.\n",
    "\n",
    "### Submission\n",
    "These instructions outline how you submit files. Some useful commands:\n",
    "* To add a file to local repository: `git add <file>`.\n",
    "* To commit all changed files into local repository: `git -a -m \"A message\"`. You need to provide some comment when you commit. \n",
    "* To push the commited files from the local repository to GitHub: `git push`.\n",
    "* To get updates from GitHub: `git pull`.\n",
    "\n",
    "Steps:\n",
    "1. To submit your labs, navigate to your clone of your fork of the course repository. \n",
    "1. Use `git pull` to make sure you have the latest updates. \n",
    "1. Make sure your copy of the lab your are working on is in the appropriate place in this clone. That means if you have the file elsewhere, copy it to the same directory in your clone of your fork. \n",
    "1. Note that in order to avoid future conflicts, you should always name your solution differently than the original file in the class repo. For example if your file is still named `Lab.2.ipynb` you should rename it using the `mv` command: `mv Lab.2.ipynb Lab.2.solution.ipynb`. \n",
    "1. Add and files you wish to submit into the repo. For example: `git add Labs/Lab.2/Lab.2.solution.ipynb`\n",
    "1. Commit any changes: `git commit -a -m \"Lab 2 updates\"`\n",
    "1. Push your changes: `git push`\n",
    "1. Check on github website that your solutions have been properly submitted.\n",
    "\n",
    "Before you leave the session today, make sure your GitHub Repo is setup. If you need to work further on your lab, navigate jupyter to the copy of the lab you just submitted and work there. Once done, repeat the commit and push commands to submit your updated solution. Note that lab 2 is due by midnight Friay 1/31/2025.\n"
   ]
  },
  {
   "cell_type": "markdown",
   "metadata": {},
   "source": [
    "### Uniform Distribution\n",
    "Lets start with generating some fake random data. You can get a random number between 0 and 1 using the python random module as follow:"
   ]
  },
  {
   "cell_type": "code",
   "execution_count": 92,
   "metadata": {},
   "outputs": [
    {
     "name": "stdout",
     "output_type": "stream",
     "text": [
      "The Value of x is 0.4263538110674999\n"
     ]
    }
   ],
   "source": [
    "import random\n",
    "x=random.random()\n",
    "print(\"The Value of x is\", x)"
   ]
  },
  {
   "cell_type": "markdown",
   "metadata": {},
   "source": [
    "Everytime you call random, you will get a new number.\n",
    "\n",
    "*Exercise 1:* Using random, write a function `generate_uniform(N, mymin, mymax)`, that returns a python list containing N random numbers between specified minimum and maximum value. Note that you may want to quickly work out on paper how to turn numbers between 0 and 1 to between other values. "
   ]
  },
  {
   "cell_type": "code",
   "execution_count": 95,
   "metadata": {},
   "outputs": [],
   "source": [
    "# Skeleton\n",
    "def generate_uniform(N, x_min, x_max):\n",
    "    out = [random.uniform(x_min, x_max) for _ in range(N)]\n",
    "    return out\n"
   ]
  },
  {
   "cell_type": "code",
   "execution_count": 97,
   "metadata": {},
   "outputs": [
    {
     "name": "stdout",
     "output_type": "stream",
     "text": [
      "Data Type: <class 'list'>\n",
      "Data Length: 1000\n",
      "Type of Data Contents: <class 'float'>\n",
      "Data Minimum: -9.962567207991228\n",
      "Data Maximum: 9.992383645998213\n"
     ]
    }
   ],
   "source": [
    "# Test your solution here\n",
    "data=generate_uniform(1000,-10,10)\n",
    "print (\"Data Type:\", type(data))\n",
    "print (\"Data Length:\", len(data))\n",
    "if len(data)>0: \n",
    "    print (\"Type of Data Contents:\", type(data[0]))\n",
    "    print (\"Data Minimum:\", min(data))\n",
    "    print (\"Data Maximum:\", max(data))"
   ]
  },
  {
   "cell_type": "markdown",
   "metadata": {},
   "source": [
    "*Exercise 2a:* \n",
    "Write a function that computes the mean of values in a list. Recall the equation for the mean of a random variable $\\bf{x}$ computed on a data set of $n$ values $\\{ x_i \\} = \\{x_1, x_2, ..., x_n\\}$  is ${\\bf\\bar{x}} = \\frac{1}{n} \\sum_i^n x_i$."
   ]
  },
  {
   "cell_type": "code",
   "execution_count": 100,
   "metadata": {},
   "outputs": [],
   "source": [
    "# Skeleton\n",
    "def mean(Data):\n",
    "    m=0.\n",
    "    \n",
    "    ### BEGIN SOLUTION\n",
    "\n",
    "    if len(Data) > 0:\n",
    "        m = sum(Data) / len(Data)       \n",
    "    \n",
    "    ### END SOLUTION\n",
    "    \n",
    "    return m"
   ]
  },
  {
   "cell_type": "code",
   "execution_count": 102,
   "metadata": {},
   "outputs": [
    {
     "name": "stdout",
     "output_type": "stream",
     "text": [
      "Mean of Data: 0.17187424369672719\n"
     ]
    }
   ],
   "source": [
    "# Test your solution here\n",
    "print (\"Mean of Data:\", mean(data))"
   ]
  },
  {
   "cell_type": "markdown",
   "metadata": {},
   "source": [
    "*Exercise 2b:* \n",
    "Write a function that computes the variance of values in a list. Recall the equation for the variance of a random variable $\\bf{x}$ computed on a data set of $n$ values $\\{ x_i \\} = \\{x_1, x_2, ..., x_n\\}$  is ${\\bf\\langle x \\rangle} = \\frac{1}{n} \\sum_i^n (x_i - {\\bf\\bar{x}})$."
   ]
  },
  {
   "cell_type": "code",
   "execution_count": 105,
   "metadata": {},
   "outputs": [],
   "source": [
    "\n",
    "# Skeleton\n",
    "def variance(Data):\n",
    "    m = 0.\n",
    "    \n",
    "    ### BEGIN SOLUTION\n",
    "    if len(Data) > 0:\n",
    "        m = mean(Data)\n",
    "        v = sum((x - m) ** 2 for x in Data) / len(Data)\n",
    "    ### END SOLUTION\n",
    "    \n",
    "    return m"
   ]
  },
  {
   "cell_type": "code",
   "execution_count": 107,
   "metadata": {},
   "outputs": [
    {
     "name": "stdout",
     "output_type": "stream",
     "text": [
      "Variance of Data: 0.17187424369672719\n"
     ]
    }
   ],
   "source": [
    "# Test your solution here\n",
    "print (\"Variance of Data:\", variance(data))"
   ]
  },
  {
   "cell_type": "markdown",
   "metadata": {},
   "source": [
    "## Histogramming"
   ]
  },
  {
   "cell_type": "markdown",
   "metadata": {},
   "source": [
    "*Exercise 3:* Write a function that bins the data so that you can create a histogram. An example of how to implement histogramming is the following logic:\n",
    "\n",
    "* User inputs a list of values `x` and optionally `n_bins` which defaults to 10.\n",
    "* If not supplied, find the minimum and maximum (`x_min`,`x_max`) of the values in x.\n",
    "* Determine the bin size (`bin_size`) by dividing the range of the function by the number of bins.\n",
    "* Create an empty list of zeros of size `n_bins`, call it `hist`.\n",
    "* Loop over the values in `x`\n",
    "    * Loop over the values in `hist` with index `i`:\n",
    "        * If x is between `x_min+i*bin_size` and `x_min+(i+1)*bin_size`, increment `hist[i].` \n",
    "        * For efficiency, try to use continue to goto the next bin and data point.\n",
    "* Return `hist` and the list corresponding of the bin edges (i.e. of `x_min+i*bin_size`).    "
   ]
  },
  {
   "cell_type": "code",
   "execution_count": 111,
   "metadata": {},
   "outputs": [],
   "source": [
    "# Solution\n",
    "def histogram(x, n_bins=10, x_min=None, x_max=None):\n",
    "    ### BEGIN SOLUTION\n",
    "    # Set x_min and x_max if not provided\n",
    "    if x_min is None:\n",
    "        x_min = min(x)\n",
    "    if x_max is None:\n",
    "        x_max = max(x)\n",
    "        \n",
    "    # Determine the bin size\n",
    "    bin_size = (x_max - x_min) / n_bins\n",
    "    \n",
    "    # Create a list of zeros for the bins and compute bin edges\n",
    "    hist = [0] * n_bins\n",
    "    bin_edges = [x_min + i * bin_size for i in range(n_bins + 1)]\n",
    "    \n",
    "    # Loop over each value in x\n",
    "    for value in x:\n",
    "        # Special case: if value equals the maximum, assign it to the last bin\n",
    "        if value == x_max:\n",
    "            hist[-1] += 1\n",
    "            continue\n",
    "        \n",
    "        # Loop over bins to determine where the value falls\n",
    "        for i in range(n_bins):\n",
    "            lower_edge = x_min + i * bin_size\n",
    "            upper_edge = x_min + (i + 1) * bin_size\n",
    "            if lower_edge <= value < upper_edge:\n",
    "                hist[i] += 1\n",
    "                break  # go to the next value in x once the bin is found\n",
    "    ### END SOLUTION\n",
    "    \n",
    "    return hist, bin_edges"
   ]
  },
  {
   "cell_type": "code",
   "execution_count": 113,
   "metadata": {
    "scrolled": true
   },
   "outputs": [
    {
     "name": "stdout",
     "output_type": "stream",
     "text": [
      "[9, 12, 8, 12, 7, 10, 9, 10, 11, 11, 10, 8, 9, 11, 8, 9, 7, 12, 10, 6, 11, 9, 9, 9, 10, 14, 11, 12, 9, 11, 7, 12, 10, 6, 13, 12, 8, 12, 5, 14, 19, 12, 9, 14, 10, 6, 4, 10, 10, 13, 8, 11, 6, 12, 6, 10, 10, 18, 5, 7, 11, 9, 10, 10, 13, 9, 9, 8, 6, 7, 10, 8, 7, 9, 10, 15, 11, 9, 13, 11, 8, 6, 6, 8, 9, 14, 16, 15, 8, 7, 11, 13, 10, 9, 11, 9, 11, 17, 13, 11]\n"
     ]
    }
   ],
   "source": [
    "# Test your solution here\n",
    "h,b=histogram(data,100)\n",
    "print(h)"
   ]
  },
  {
   "cell_type": "markdown",
   "metadata": {},
   "source": [
    "*Exercise 4:* Write a function that uses the histogram function in the previous exercise to create a text-based \"graph\". For example the output could look like the following:\n",
    "```\n",
    "[  0,  1] : ######\n",
    "[  1,  2] : #####\n",
    "[  2,  3] : ######\n",
    "[  3,  4] : ####\n",
    "[  4,  5] : ####\n",
    "[  5,  6] : ######\n",
    "[  6,  7] : #####\n",
    "[  7,  8] : ######\n",
    "[  8,  9] : ####\n",
    "[  9, 10] : #####\n",
    "```\n",
    "\n",
    "Where each line corresponds to a bin and the number of `#`'s are proportional to the value of the data in the bin. "
   ]
  },
  {
   "cell_type": "code",
   "execution_count": 120,
   "metadata": {},
   "outputs": [],
   "source": [
    "# Solution\n",
    "def draw_histogram(x, n_bins, x_min=None, x_max=None, character=\"#\", max_character_per_line=20):\n",
    "    ### BEGIN SOLUTION\n",
    "    # Use the histogram function from Exercise 3\n",
    "    hist, bin_edges = histogram(x, n_bins, x_min, x_max)\n",
    "    \n",
    "    # Determine the maximum count to scale the output\n",
    "    max_count = max(hist) if hist else 0\n",
    "    \n",
    "    # For each bin, determine how many characters to print\n",
    "    for i in range(n_bins):\n",
    "        lower_edge = bin_edges[i]\n",
    "        upper_edge = bin_edges[i+1]\n",
    "        \n",
    "        # Avoid division by zero if max_count is 0\n",
    "        if max_count > 0:\n",
    "            n_chars = int(hist[i] * max_character_per_line / max_count)\n",
    "            # Ensure that bins with at least one count show at least one character\n",
    "            if hist[i] > 0 and n_chars == 0:\n",
    "                n_chars = 1\n",
    "        else:\n",
    "            n_chars = 0\n",
    "        \n",
    "        # Create the text for this bin\n",
    "        bar = character * n_chars\n",
    "        # Format the bin edges nicely; here we assume numbers can be rounded to 2 decimals.\n",
    "        print(f\"[{lower_edge:5.2f}, {upper_edge:5.2f}] : {bar}\")\n",
    "    ### END SOLUTION\n",
    "    \n",
    "    return hist, bin_edges\n"
   ]
  },
  {
   "cell_type": "code",
   "execution_count": 156,
   "metadata": {},
   "outputs": [
    {
     "name": "stdout",
     "output_type": "stream",
     "text": [
      "Histogram counts: [1, 0, 1, 1, 1, 1, 2, 1, 1, 1, 0, 1, 1, 1, 1, 0, 1, 1, 1, 1]\n",
      "Bin edges: [1.2, 1.6400000000000001, 2.08, 2.5200000000000005, 2.96, 3.4000000000000004, 3.8400000000000007, 4.28, 4.720000000000001, 5.16, 5.6000000000000005, 6.040000000000001, 6.480000000000001, 6.920000000000001, 7.360000000000001, 7.800000000000001, 8.24, 8.680000000000001, 9.120000000000001, 9.56, 10.0]\n"
     ]
    }
   ],
   "source": [
    "# Sample data\n",
    "data = [1.2, 2.3, 2.7, 3.1, 3.5, 3.9, 4.2, 4.6, 5.0, 5.5, 6.1, 6.7, 7.2, 7.8, 8.3, 8.9, 9.4, 10.0]\n",
    "\n",
    "# Call the histogram function\n",
    "h, b = histogram(data, 20)\n",
    "\n",
    "# Print the results\n",
    "print(\"Histogram counts:\", h)\n",
    "print(\"Bin edges:\", b)"
   ]
  },
  {
   "cell_type": "markdown",
   "metadata": {},
   "source": [
    "## \n",
    "Functional Programming\n",
    "\n",
    "*Exercise 5:* Write a function the applies a booling function (that returns true/false) to every element in data, and return a list of indices of elements where the result was true. Use this function to find the indices of entries greater than 0.5. "
   ]
  },
  {
   "cell_type": "code",
   "execution_count": 159,
   "metadata": {},
   "outputs": [
    {
     "name": "stdout",
     "output_type": "stream",
     "text": [
      "[1, 3, 5]\n"
     ]
    }
   ],
   "source": [
    "def where(mylist, myfunc):\n",
    "    out = [i for i, x in enumerate(mylist) if myfunc(x)]\n",
    "    return out\n",
    "\n",
    "# Test your solution here\n",
    "data = [0.1, 0.6, 0.3, 0.8, 0.5, 0.9]\n",
    "result = where(data, lambda x: x > 0.5)\n",
    "print(result)  \n"
   ]
  },
  {
   "cell_type": "markdown",
   "metadata": {},
   "source": [
    "*Exercise 6:* The `inrange(mymin,mymax)` function below returns a function that tests if it's input is between the specified values. Write corresponding functions that test:\n",
    "* Even\n",
    "* Odd\n",
    "* Greater than\n",
    "* Less than\n",
    "* Equal\n",
    "* Divisible by"
   ]
  },
  {
   "cell_type": "code",
   "execution_count": 162,
   "metadata": {},
   "outputs": [
    {
     "ename": "NameError",
     "evalue": "name 'inrange' is not defined",
     "output_type": "error",
     "traceback": [
      "\u001b[0;31m---------------------------------------------------------------------------\u001b[0m",
      "\u001b[0;31mNameError\u001b[0m                                 Traceback (most recent call last)",
      "Cell \u001b[0;32mIn[162], line 7\u001b[0m\n\u001b[1;32m      4\u001b[0m     \u001b[38;5;28;01mreturn\u001b[39;00m testrange\n\u001b[1;32m      6\u001b[0m \u001b[38;5;66;03m# Examples:\u001b[39;00m\n\u001b[0;32m----> 7\u001b[0m F1\u001b[38;5;241m=\u001b[39minrange(\u001b[38;5;241m0\u001b[39m,\u001b[38;5;241m10\u001b[39m)\n\u001b[1;32m      8\u001b[0m F2\u001b[38;5;241m=\u001b[39minrange(\u001b[38;5;241m10\u001b[39m,\u001b[38;5;241m20\u001b[39m)\n\u001b[1;32m     10\u001b[0m \u001b[38;5;66;03m# Test of in_range\u001b[39;00m\n",
      "\u001b[0;31mNameError\u001b[0m: name 'inrange' is not defined"
     ]
    }
   ],
   "source": [
    "def in_range(mymin,mymax):\n",
    "    def testrange(x):\n",
    "        return x<mymax and x>=mymin\n",
    "    return testrange\n",
    "\n",
    "# Examples:\n",
    "F1=inrange(0,10)\n",
    "F2=inrange(10,20)\n",
    "\n",
    "# Test of in_range\n",
    "print (F1(0), F1(1), F1(10), F1(15), F1(20))\n",
    "print (F2(0), F2(1), F2(10), F2(15), F2(20))\n",
    "\n",
    "print (\"Number of Entries passing F1:\", len(where(data,F1)))\n",
    "print (\"Number of Entries passing F2:\", len(where(data,F2)))"
   ]
  },
  {
   "cell_type": "code",
   "execution_count": 164,
   "metadata": {},
   "outputs": [
    {
     "name": "stdout",
     "output_type": "stream",
     "text": [
      "Even numbers: [0, 2, 4, 6, 8, 10, 11, 13, 15]\n",
      "Odd numbers: [1, 3, 5, 7, 9, 12, 14]\n",
      "Numbers greater than 10: [11, 12, 13, 14, 15]\n",
      "Numbers less than 10: [0, 1, 2, 3, 4, 5, 6, 7, 8, 9]\n",
      "Numbers equal to 5: [5]\n",
      "Numbers divisible by 5: [0, 5, 10, 12, 13, 14, 15]\n"
     ]
    }
   ],
   "source": [
    "def is_even():\n",
    "    return lambda x: x % 2 == 0\n",
    "\n",
    "def is_odd():\n",
    "    return lambda x: x % 2 != 0\n",
    "\n",
    "def greater_than(n):\n",
    "    return lambda x: x > n\n",
    "\n",
    "def less_than(n):\n",
    "    return lambda x: x < n\n",
    "\n",
    "def equal_to(n):\n",
    "    return lambda x: x == n\n",
    "\n",
    "def divisible_by(n):\n",
    "    return lambda x: x % n == 0\n",
    "\n",
    "# Testing the functions\n",
    "data = [0, 1, 2, 3, 4, 5, 6, 7, 8, 9, 10, 12, 15, 20, 25, 30]\n",
    "\n",
    "F_even = is_even()\n",
    "F_odd = is_odd()\n",
    "F_gt_10 = greater_than(10)\n",
    "F_lt_10 = less_than(10)\n",
    "F_eq_5 = equal_to(5)\n",
    "F_div_5 = divisible_by(5)\n",
    "\n",
    "print(\"Even numbers:\", where(data, F_even))\n",
    "print(\"Odd numbers:\", where(data, F_odd))\n",
    "print(\"Numbers greater than 10:\", where(data, F_gt_10))\n",
    "print(\"Numbers less than 10:\", where(data, F_lt_10))\n",
    "print(\"Numbers equal to 5:\", where(data, F_eq_5))\n",
    "print(\"Numbers divisible by 5:\", where(data, F_div_5))\n"
   ]
  },
  {
   "cell_type": "markdown",
   "metadata": {},
   "source": [
    "*Exercise 7:* Repeat the previous exercise using `lambda` and the built-in python functions sum and map instead of your solution above. "
   ]
  },
  {
   "cell_type": "code",
   "execution_count": 133,
   "metadata": {},
   "outputs": [
    {
     "name": "stdout",
     "output_type": "stream",
     "text": [
      "Even numbers: [0, 2, 4, 6, 8, 10, 11, 13, 15]\n",
      "Odd numbers: [1, 3, 5, 7, 9, 12, 14]\n",
      "Numbers greater than 10: [11, 12, 13, 14, 15]\n",
      "Numbers less than 10: [0, 1, 2, 3, 4, 5, 6, 7, 8, 9]\n",
      "Numbers equal to 5: [5]\n",
      "Numbers divisible by 5: [0, 5, 10, 12, 13, 14, 15]\n",
      "Count Even: 9\n",
      "Count Odd: 7\n",
      "Count > 10: 5\n",
      "Count < 10: 10\n",
      "Count == 5: 1\n",
      "Count Divisible by 5: 7\n"
     ]
    }
   ],
   "source": [
    "# Define lambda functions for each condition\n",
    "is_even = lambda x: x % 2 == 0\n",
    "is_odd = lambda x: x % 2 != 0\n",
    "greater_than = lambda n: lambda x: x > n\n",
    "less_than = lambda n: lambda x: x < n\n",
    "equal_to = lambda n: lambda x: x == n\n",
    "divisible_by = lambda n: lambda x: x % n == 0\n",
    "\n",
    "# Test data\n",
    "data = [0, 1, 2, 3, 4, 5, 6, 7, 8, 9, 10, 12, 15, 20, 25, 30]\n",
    "\n",
    "# Apply the where function using map and sum\n",
    "where = lambda lst, func: [i for i, x in enumerate(lst) if func(x)]\n",
    "\n",
    "# Using lambda functions to find indices\n",
    "print(\"Even numbers:\", where(data, is_even))\n",
    "print(\"Odd numbers:\", where(data, is_odd))\n",
    "print(\"Numbers greater than 10:\", where(data, greater_than(10)))\n",
    "print(\"Numbers less than 10:\", where(data, less_than(10)))\n",
    "print(\"Numbers equal to 5:\", where(data, equal_to(5)))\n",
    "print(\"Numbers divisible by 5:\", where(data, divisible_by(5)))\n",
    "\n",
    "# Counting the number of entries passing each condition using sum and map\n",
    "print(\"Count Even:\", sum(map(is_even, data)))\n",
    "print(\"Count Odd:\", sum(map(is_odd, data)))\n",
    "print(\"Count > 10:\", sum(map(greater_than(10), data)))\n",
    "print(\"Count < 10:\", sum(map(less_than(10), data)))\n",
    "print(\"Count == 5:\", sum(map(equal_to(5), data)))\n",
    "print(\"Count Divisible by 5:\", sum(map(divisible_by(5), data)))\n"
   ]
  },
  {
   "cell_type": "markdown",
   "metadata": {},
   "source": [
    "## Monte Carlo\n",
    "\n",
    "*Exercise 7:* Write a \"generator\" function called `generate_function(func,x_min,x_max,N)`, that instead of generating a flat distribution, generates a distribution with functional form coded in `func`. Note that `func` will always be > 0.  \n",
    "\n",
    "Use the test function below and your histogramming functions above to demonstrate that your generator is working properly.\n",
    "\n",
    "Hint: A simple, but slow, solution is to a draw random number `test_x` within the specified range and another number `p` between the `min` and `max` of the function (which you will have to determine). If `p<=function(test_x)`, then place `test_x` on the output. If not, repeat the process, drawing two new numbers. Repeat until you have the specified number of generated numbers, `N`. For this problem, it's OK to determine the `min` and `max` by numerically sampling the function.  "
   ]
  },
  {
   "cell_type": "code",
   "execution_count": 147,
   "metadata": {},
   "outputs": [],
   "source": [
    "import numpy as np\n",
    "\n",
    "def generate_function(func, x_min, x_max, N=1000):\n",
    "    out = []\n",
    "\n",
    "    ### BEGIN SOLUTION\n",
    "    \n",
    "    # Determine the approximate max value of func in the range by sampling\n",
    "    sample_points = np.linspace(x_min, x_max, 1000)\n",
    "    max_val = max(func(sample_points))  # Efficiently apply function to all points\n",
    "\n",
    "    while len(out) < N:\n",
    "        test_x = np.random.uniform(x_min, x_max)  # Random x in range\n",
    "        p = np.random.uniform(0, max_val)  # Random probability in range of function max\n",
    "        if p <= func(test_x):  # Accept test_x if within function value\n",
    "            out.append(test_x)\n",
    "    \n",
    "    ### END SOLUTION\n",
    "    \n",
    "    return out\n"
   ]
  },
  {
   "cell_type": "code",
   "execution_count": 168,
   "metadata": {},
   "outputs": [
    {
     "name": "stdout",
     "output_type": "stream",
     "text": [
      "First 10 samples: [1.7968007080053834, 5.911823648397609, 3.4112842743810674, 8.857770834639727, -8.013497811202676, -3.867222747581936, -3.746718100262152, 4.896854820671168, -9.659507958524372, 6.0622043306996005]\n"
     ]
    }
   ],
   "source": [
    "#Test my solution\n",
    "def test_func(x, a=1, b=1):\n",
    "    return np.abs(a * x + b)\n",
    "\n",
    "# Generate samples from test_func\n",
    "x_min = -10\n",
    "x_max = 10\n",
    "N = 1000\n",
    "samples = generate_function(lambda x: test_func(x, a=1, b=1), x_min, x_max, N)\n",
    "\n",
    "# Print the first 10 samples\n",
    "print(\"First 10 samples:\", samples[:10])\n"
   ]
  },
  {
   "cell_type": "markdown",
   "metadata": {},
   "source": [
    "*Exercise 8:* Use your function to generate 1000 numbers that are normal distributed, using the `gaussian` function below. Confirm the mean and variance of the data is close to the mean and variance you specify when building the Gaussian. Histogram the data. "
   ]
  },
  {
   "cell_type": "code",
   "execution_count": 89,
   "metadata": {},
   "outputs": [
    {
     "name": "stdout",
     "output_type": "stream",
     "text": [
      "Computed Mean: -0.0255, Expected Mean: 0\n",
      "Computed Variance: 1.0176, Expected Variance: 1\n"
     ]
    },
    {
     "data": {
      "image/png": "[encoded data removed]",
      "text/plain": [
       "<Figure size 640x480 with 1 Axes>"
      ]
     },
     "metadata": {},
     "output_type": "display_data"
    }
   ],
   "source": [
    "import math\n",
    "import numpy as np\n",
    "import matplotlib.pyplot as plt\n",
    "\n",
    "# Gaussian function generator\n",
    "def gaussian(mean, sigma):\n",
    "    def f(x):\n",
    "        return math.exp(-((x - mean) ** 2) / (2 * sigma ** 2)) / math.sqrt(math.pi * sigma)\n",
    "    return f\n",
    "\n",
    "# Generate normal distributed numbers using rejection sampling\n",
    "samples = generate_function(gaussian(0, 1), -5, 5, 1000)\n",
    "\n",
    "# Compute mean and variance\n",
    "computed_mean = np.mean(samples)\n",
    "computed_variance = np.var(samples)\n",
    "\n",
    "# Print results\n",
    "print(f\"Computed Mean: {computed_mean:.4f}, Expected Mean: 0\")\n",
    "print(f\"Computed Variance: {computed_variance:.4f}, Expected Variance: 1\")\n",
    "\n",
    "# Histogram to visualize distribution\n",
    "plt.hist(samples, bins=50, density=True, alpha=0.6, color='b')\n",
    "plt.xlabel(\"x values\")\n",
    "plt.ylabel(\"Probability Density\")\n",
    "plt.title(\"Generated Normal Distribution (Mean=0, Sigma=1)\")\n",
    "plt.show()\n"
   ]
  },
  {
   "cell_type": "markdown",
   "metadata": {},
   "source": [
    "*Exercise 9:* Combine your `generate_function`, `where`, and `in_range` functions above to create an integrate function. Use your integrate function to show that approximately 68% of Normal distribution is within one variance."
   ]
  },
  {
   "cell_type": "code",
   "execution_count": 137,
   "metadata": {},
   "outputs": [
    {
     "name": "stdout",
     "output_type": "stream",
     "text": [
      "Estimated proportion within 1 standard deviation: 100.00%\n",
      "Expected value (theoretical): 68.27%\n"
     ]
    }
   ],
   "source": [
    "import numpy as np\n",
    "\n",
    "def integrate(func, x_min, x_max, n_points=1000):\n",
    "    samples = generate_function(func, x_min, x_max, n_points)\n",
    "    integral = len(samples) / n_points  \n",
    "    return integral\n",
    "\n",
    "g = gaussian(0, 1)  # Standard normal distribution (mean=0, sigma=1)\n",
    "\n",
    "total_area = integrate(g, -5, 5, 10000)\n",
    "\n",
    "\n",
    "area_within_1_std = integrate(g, -1, 1, 10000)\n",
    "\n",
    "percentage = (area_within_1_std / total_area) * 100\n",
    "\n",
    "# Print results\n",
    "print(f\"Estimated proportion within 1 standard deviation: {percentage:.2f}%\")\n",
    "print(\"Expected value (theoretical): 68.27%\")\n"
   ]
  }
 ],
 "metadata": {
  "kernelspec": {
   "display_name": "Python [conda env:base] *",
   "language": "python",
   "name": "conda-base-py"
  },
  "language_info": {
   "codemirror_mode": {
    "name": "ipython",
    "version": 3
   },
   "file_extension": ".py",
   "mimetype": "text/x-python",
   "name": "python",
   "nbconvert_exporter": "python",
   "pygments_lexer": "ipython3",
   "version": "3.12.7"
  }
 },
 "nbformat": 4,
 "nbformat_minor": 4
}
