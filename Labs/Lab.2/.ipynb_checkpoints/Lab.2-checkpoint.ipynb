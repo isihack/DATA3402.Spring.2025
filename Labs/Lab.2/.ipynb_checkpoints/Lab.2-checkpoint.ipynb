{
 "cells": [
  {
   "cell_type": "markdown",
   "metadata": {},
   "source": [
    "## Lab 2- Tic Tac Toe\n",
    "\n",
    "In this lab your will build a n x n Tic Tac Toe game. As you do the exercises, make sure your solutions work for any size Tic Tac Toe game. "
   ]
  },
  {
   "cell_type": "markdown",
   "metadata": {},
   "source": [
    "*Exercise 1:* Write a function that creates an n by n matrix (of list of lists) which will represent the state of a Tie Tac Toe game. Let 0, 1, and 2 represent empty, \"X\", and \"O\", respectively.\n"
   ]
  },
  {
   "cell_type": "code",
   "execution_count": 36,
   "metadata": {},
   "outputs": [],
   "source": [
    "def make_game(size=3):\n",
    "    Tic_Tac_Toe=[[0]*size for i in range(size)]\n",
    "    return Tic_Tac_Toe\n"
   ]
  },
  {
   "cell_type": "code",
   "execution_count": 40,
   "metadata": {},
   "outputs": [
    {
     "data": {
      "text/plain": [
       "[[0, 0, 0], [0, 0, 0], [0, 0, 0]]"
      ]
     },
     "execution_count": 40,
     "metadata": {},
     "output_type": "execute_result"
    }
   ],
   "source": [
    "game=make_game(3)\n",
    "game"
   ]
  },
  {
   "cell_type": "markdown",
   "metadata": {},
   "source": [
    "*Exercise 2:* Write a function that takes 2 integers `n` and `m` as input and draws a `n` by `m` game board. For example the following is a 3x3 board:\n",
    "```\n",
    "   --- --- --- \n",
    "  |   |   |   | \n",
    "   --- --- ---  \n",
    "  |   |   |   | \n",
    "   --- --- ---  \n",
    "  |   |   |   | \n",
    "   --- --- --- \n",
    "   ```"
   ]
  },
  {
   "cell_type": "code",
   "execution_count": 42,
   "metadata": {},
   "outputs": [],
   "source": [
    "def draw_board(n,m):\n",
    "  for i in range(n):\n",
    "    print(\"---\"*m)\n",
    "    print(\"|  \"*(m+1))\n",
    "  print(\"---\"*m)"
   ]
  },
  {
   "cell_type": "code",
   "execution_count": 44,
   "metadata": {},
   "outputs": [
    {
     "name": "stdout",
     "output_type": "stream",
     "text": [
      "---------\n",
      "|  |  |  |  \n",
      "---------\n",
      "|  |  |  |  \n",
      "---------\n",
      "|  |  |  |  \n",
      "---------\n"
     ]
    }
   ],
   "source": [
    "draw_board(3, 3)"
   ]
  },
  {
   "cell_type": "markdown",
   "metadata": {},
   "source": [
    "*Exercise 3:* Modify exercise 2, so that it takes a matrix of the form from exercise 1 and draws a tic-tac-tie board with \"X\"s and \"O\"s.  "
   ]
  },
  {
   "cell_type": "code",
   "execution_count": 46,
   "metadata": {},
   "outputs": [],
   "source": [
    "def draw_tic_tac_toe(matrix):\n",
    "  l = len(matrix)\n",
    "  \n",
    "  for i in range(l):\n",
    "    if i!=0:\n",
    "     print(\"\\n----------\")\n",
    "    for j in range(l):\n",
    "      var = matrix[i][j]\n",
    "      if var == 1:\n",
    "        var = \"X\"\n",
    "      if var == 2:\n",
    "        var = \"O\"\n",
    "      if var == 0:\n",
    "        var = \" \"\n",
    "      if j!=0:\n",
    "       print(\"| \"+var+\" \",end=\"\")\n",
    "      if j==0:\n",
    "        print(\" \"+var,end=\"\")"
   ]
  },
  {
   "cell_type": "code",
   "execution_count": 64,
   "metadata": {},
   "outputs": [
    {
     "name": "stdout",
     "output_type": "stream",
     "text": [
      " X|   | O \n",
      "----------\n",
      "  | O | X \n",
      "----------\n",
      " O| X |   "
     ]
    }
   ],
   "source": [
    "matrix= [\n",
    "    [1, 0, 2],\n",
    "    [0, 2, 1],\n",
    "    [2, 1, 0]\n",
    "]\n",
    "draw_tic_tac_toe(matrix)"
   ]
  },
  {
   "cell_type": "markdown",
   "metadata": {},
   "source": [
    "*Exercise 4:* Write a function that takes a `n` by `n` matrix representing a tic-tac-toe game, and returns -1, 0, 1, or 2 indicating the game is incomplete, the game is a draw, player 1 has won, or player 2 has one, respectively. Here are some example inputs you can use to test your code:"
   ]
  },
  {
   "cell_type": "code",
   "execution_count": 8,
   "metadata": {},
   "outputs": [],
   "source": [
    "def print_board(matrix):\n",
    "    print(\"   A   B   C\")\n",
    "    for i in range(3):\n",
    "        print(i + 1, end=\"  \")\n",
    "        for j in range(3):\n",
    "            # Determine what to print: X, O, or space\n",
    "            cell = \"X\" if matrix[i][j] == 1 else \"O\" if matrix[i][j] == 2 else \" \"\n",
    "            print(cell, end=\" | \" if j < 2 else \"\")\n",
    "        print()  # Move to the next row\n",
    "        if i < 2:\n",
    "            print(\"  ---+---+---\")\n"
   ]
  },
  {
   "cell_type": "code",
   "execution_count": 10,
   "metadata": {},
   "outputs": [
    {
     "name": "stdout",
     "output_type": "stream",
     "text": [
      "Test Case 1: Populated Board\n",
      "   A   B   C\n",
      "1    |   |  \n",
      "  ---+---+---\n",
      "2    |   |  \n",
      "  ---+---+---\n",
      "3    |   |  \n"
     ]
    }
   ],
   "source": [
    "test_matrix = [\n",
    "    [\"X\", \"O\", \"X\"],\n",
    "    [\"O\", \"X\", \"O\"],\n",
    "    [\"X\", \" \", \"O\"]\n",
    "]\n",
    "\n",
    "print(\"Test Case 1: Populated Board\")\n",
    "print_board(test_matrix)"
   ]
  },
  {
   "cell_type": "code",
   "execution_count": 12,
   "metadata": {},
   "outputs": [],
   "source": [
    "winner_is_2 = [[2, 2, 0],\n",
    "\t[2, 1, 0],\n",
    "\t[2, 1, 1]]\n",
    "\n",
    "winner_is_1 = [[1, 2, 0],\n",
    "\t[2, 1, 0],\n",
    "\t[2, 1, 1]]\n",
    "\n",
    "winner_is_also_1 = [[0, 1, 0],\n",
    "\t[2, 1, 0],\n",
    "\t[2, 1, 1]]\n",
    "\n",
    "no_winner = [[1, 2, 0],\n",
    "\t[2, 1, 0],\n",
    "\t[2, 1, 2]]\n",
    "\n",
    "also_no_winner = [[1, 2, 0],\n",
    "\t[2, 1, 0],\n",
    "\t[2, 1, 0]]"
   ]
  },
  {
   "cell_type": "markdown",
   "metadata": {},
   "source": [
    "*Exercise 5:* Write a function that takes a game board, player number, and `(x,y)` coordinates and places \"X\" or \"O\" in the correct location of the game board. Make sure that you only allow filling previously empty locations. Return `True` or `False` to indicate successful placement of \"X\" or \"O\"."
   ]
  },
  {
   "cell_type": "code",
   "execution_count": 54,
   "metadata": {},
   "outputs": [],
   "source": [
    "def place_on_board(matrix,player_number,x_coordinate,y_coordinate):\n",
    "  player_1_piece = \"X\"\n",
    "  player_2_piece = \"O\"\n",
    "  empty_space = \" \"\n",
    "  if matrix[x_coordinate][y_coordinate]!=0:\n",
    "    return False\n",
    "  elif player_number == 1:\n",
    "    matrix[x_coordinate][y_coordinate]=1\n",
    "    return True\n",
    "  elif player_number == 2:\n",
    "    matrix[x_coordinate][y_coordinate]=2\n",
    "    return True"
   ]
  },
  {
   "cell_type": "code",
   "execution_count": 56,
   "metadata": {},
   "outputs": [
    {
     "name": "stdout",
     "output_type": "stream",
     "text": [
      "  |   |   \n",
      "----------\n",
      "  |   | O \n",
      "----------\n",
      "  |   |   "
     ]
    }
   ],
   "source": [
    "board=make_game()\n",
    "place_on_board(board,2,1,2)\n",
    "draw_tic_tac_toe(board)"
   ]
  },
  {
   "cell_type": "markdown",
   "metadata": {},
   "source": [
    "*Exercise 6:* Modify Exercise 3 to show column and row labels so that players can specify location using \"A2\" or \"C1\"."
   ]
  },
  {
   "cell_type": "code",
   "execution_count": 14,
   "metadata": {},
   "outputs": [],
   "source": [
    "def draw_tic_tac_toe_updated(matrix):\n",
    "  l = len(matrix)\n",
    "  print(\"  1   2   3\")\n",
    "  for i in range(l):\n",
    "    if i!=0:\n",
    "     print(\"\\n  ----------\")\n",
    "    for j in range(l):\n",
    "      var = matrix[i][j]\n",
    "      if var == 1:\n",
    "        var = \"X\"\n",
    "      if var == 2:\n",
    "        var = \"O\"\n",
    "      if var == 0:\n",
    "        var = \" \"\n",
    "      if i==0 and j==0:\n",
    "        print(\"A \",end=\"\")\n",
    "      if i==1 and j==0:\n",
    "        print(\"B \",end=\"\")\n",
    "      if i==2 and j==0:\n",
    "        print(\"C \",end=\"\")\n",
    "      if j!=0:\n",
    "       print(\"| \"+var+\" \",end=\"\")\n",
    "      if j==0:\n",
    "        print(\" \"+var,end=\"\")"
   ]
  },
  {
   "cell_type": "code",
   "execution_count": 16,
   "metadata": {},
   "outputs": [
    {
     "name": "stdout",
     "output_type": "stream",
     "text": [
      "  1   2   3\n",
      "A  X| O |   \n",
      "  ----------\n",
      "B  O| X |   \n",
      "  ----------\n",
      "C  O| X | X "
     ]
    }
   ],
   "source": [
    "test_board = [\n",
    "    [1, 2, 0],\n",
    "    [2, 1, 0],\n",
    "    [2, 1, 1]\n",
    "]\n",
    "\n",
    "draw_tic_tac_toe_updated(test_board)"
   ]
  },
  {
   "cell_type": "markdown",
   "metadata": {},
   "source": [
    "*Exercise 7:* Write a function that takes a board, player number, and location specified as in exercise 6 and then calls exercise 5 to correctly modify the board.  "
   ]
  },
  {
   "cell_type": "code",
   "execution_count": 18,
   "metadata": {},
   "outputs": [],
   "source": [
    "def place_piece_with_labels(board, player, location):\n",
    "    # Check if location is a valid string\n",
    "    if not isinstance(location, str) or len(location) < 2:\n",
    "        return False\n",
    "    \n",
    "    # Extract column letter and row number\n",
    "    col_char = location[0].upper()\n",
    "    row_str = location[1:]\n",
    "    \n",
    "    # Validate column character\n",
    "    if not col_char.isalpha():\n",
    "        return False\n",
    "    \n",
    "    # Validate row string is a number\n",
    "    if not row_str.isdigit():\n",
    "        return False\n",
    "    \n",
    "    # Convert to indices\n",
    "    y = ord(col_char) - ord('A')\n",
    "    try:\n",
    "        x = int(row_str) - 1  # Convert to 0-based index\n",
    "    except ValueError:\n",
    "        return False\n",
    "    \n",
    "    # Check if indices are within bounds\n",
    "    n = len(board)\n",
    "    if x < 0 or x >= n or y < 0 or y >= n:\n",
    "        return False\n",
    "    \n",
    "    # Use the place_piece function to modify the board\n",
    "    return place_piece(board, player, x, y)"
   ]
  },
  {
   "cell_type": "code",
   "execution_count": 20,
   "metadata": {},
   "outputs": [
    {
     "name": "stdout",
     "output_type": "stream",
     "text": [
      "Initial Board:\n",
      "  1   2   3\n",
      "A   |   |   \n",
      "  ----------\n",
      "B   |   |   \n",
      "  ----------\n",
      "C   |   |   "
     ]
    }
   ],
   "source": [
    "board = [[0, 0, 0], [0, 0, 0], [0, 0, 0]]\n",
    "print(\"Initial Board:\")\n",
    "draw_tic_tac_toe_updated(board)"
   ]
  },
  {
   "cell_type": "markdown",
   "metadata": {},
   "source": [
    "*Exercise 8:* Write a function is called with a board and player number, takes input from the player using python's `input`, and modifies the board using your function from exercise 7. Note that you should keep asking for input until you have gotten a valid input that results in a valid move."
   ]
  },
  {
   "cell_type": "code",
   "execution_count": 42,
   "metadata": {
    "scrolled": true
   },
   "outputs": [
    {
     "name": "stdout",
     "output_type": "stream",
     "text": [
      "   A   B   C\n",
      "1    |   |  \n",
      "  ---+---+---\n",
      "2    |   |  \n",
      "  ---+---+---\n",
      "3    |   |  \n"
     ]
    },
    {
     "name": "stdin",
     "output_type": "stream",
     "text": [
      "Player 1, enter your move (e.g., 'A1', 'B2', 'C3'):  A1\n"
     ]
    },
    {
     "name": "stdout",
     "output_type": "stream",
     "text": [
      "   A   B   C\n",
      "1  X |   |  \n",
      "  ---+---+---\n",
      "2    |   |  \n",
      "  ---+---+---\n",
      "3    |   |  \n"
     ]
    },
    {
     "name": "stdin",
     "output_type": "stream",
     "text": [
      "Player 2, enter your move (e.g., 'A1', 'B2', 'C3'):  B2\n"
     ]
    },
    {
     "name": "stdout",
     "output_type": "stream",
     "text": [
      "   A   B   C\n",
      "1  X |   |  \n",
      "  ---+---+---\n",
      "2    | O |  \n",
      "  ---+---+---\n",
      "3    |   |  \n"
     ]
    },
    {
     "name": "stdin",
     "output_type": "stream",
     "text": [
      "Player 1, enter your move (e.g., 'A1', 'B2', 'C3'):  C3\n"
     ]
    },
    {
     "name": "stdout",
     "output_type": "stream",
     "text": [
      "   A   B   C\n",
      "1  X |   |  \n",
      "  ---+---+---\n",
      "2    | O |  \n",
      "  ---+---+---\n",
      "3    |   | X\n"
     ]
    },
    {
     "name": "stdin",
     "output_type": "stream",
     "text": [
      "Player 2, enter your move (e.g., 'A1', 'B2', 'C3'):  B1\n"
     ]
    },
    {
     "name": "stdout",
     "output_type": "stream",
     "text": [
      "   A   B   C\n",
      "1  X | O |  \n",
      "  ---+---+---\n",
      "2    | O |  \n",
      "  ---+---+---\n",
      "3    |   | X\n"
     ]
    },
    {
     "name": "stdin",
     "output_type": "stream",
     "text": [
      "Player 1, enter your move (e.g., 'A1', 'B2', 'C3'):  A2\n"
     ]
    },
    {
     "name": "stdout",
     "output_type": "stream",
     "text": [
      "   A   B   C\n",
      "1  X | O |  \n",
      "  ---+---+---\n",
      "2  X | O |  \n",
      "  ---+---+---\n",
      "3    |   | X\n"
     ]
    },
    {
     "name": "stdin",
     "output_type": "stream",
     "text": [
      "Player 2, enter your move (e.g., 'A1', 'B2', 'C3'):  B3\n"
     ]
    },
    {
     "name": "stdout",
     "output_type": "stream",
     "text": [
      "   A   B   C\n",
      "1  X | O |  \n",
      "  ---+---+---\n",
      "2  X | O |  \n",
      "  ---+---+---\n",
      "3    | O | X\n"
     ]
    },
    {
     "name": "stdin",
     "output_type": "stream",
     "text": [
      "Player 1, enter your move (e.g., 'A1', 'B2', 'C3'):  A3\n"
     ]
    },
    {
     "name": "stdout",
     "output_type": "stream",
     "text": [
      "   A   B   C\n",
      "1  X | O |  \n",
      "  ---+---+---\n",
      "2  X | O |  \n",
      "  ---+---+---\n",
      "3  X | O | X\n"
     ]
    },
    {
     "name": "stdin",
     "output_type": "stream",
     "text": [
      "Player 2, enter your move (e.g., 'A1', 'B2', 'C3'):  C2\n"
     ]
    },
    {
     "name": "stdout",
     "output_type": "stream",
     "text": [
      "   A   B   C\n",
      "1  X | O |  \n",
      "  ---+---+---\n",
      "2  X | O | O\n",
      "  ---+---+---\n",
      "3  X | O | X\n"
     ]
    },
    {
     "name": "stdin",
     "output_type": "stream",
     "text": [
      "Player 1, enter your move (e.g., 'A1', 'B2', 'C3'):  C1\n"
     ]
    },
    {
     "name": "stdout",
     "output_type": "stream",
     "text": [
      "   A   B   C\n",
      "1  X | O | X\n",
      "  ---+---+---\n",
      "2  X | O | O\n",
      "  ---+---+---\n",
      "3  X | O | X\n"
     ]
    }
   ],
   "source": [
    "def Make_Move(board, player_number, location):\n",
    "    # Convert the location to row and column indices\n",
    "    if len(location) != 2:\n",
    "        return False\n",
    "    col = ord(location[0].upper()) - ord('A')  # 'A' -> 0, 'B' -> 1, 'C' -> 2\n",
    "    row = int(location[1]) - 1                 # '1' -> 0, '2' -> 1, '3' -> 2\n",
    "\n",
    "    # Check if indices are valid and the cell is empty\n",
    "    if 0 <= row < 3 and 0 <= col < 3 and board[row][col] == ' ':\n",
    "        # Assign 'X' for player 1, 'O' for player 2\n",
    "        board[row][col] = 'X' if player_number == 1 else 'O'\n",
    "        return True\n",
    "    return False\n",
    "\n",
    "def get_player_move(board, player_number):\n",
    "    while True:\n",
    "        try:\n",
    "            location = input(f\"Player {player_number}, enter your move (e.g., 'A1', 'B2', 'C3'): \").strip().upper()\n",
    "            \n",
    "            if len(location) != 2 or location[0] not in 'ABC' or location[1] not in '123':\n",
    "                raise ValueError(\"Invalid input. Please enter a valid location like 'A1', 'B2', or 'C3'.\")\n",
    "            \n",
    "            if Make_Move(board, player_number, location):\n",
    "                break  # Valid move, exit loop\n",
    "            else:\n",
    "                print(\"Invalid move. The cell may already be taken. Please try again.\")\n",
    "        except ValueError as e:\n",
    "            print(e)\n",
    "\n",
    "def print_board(board):\n",
    "    print(\"   A   B   C\")\n",
    "    for i in range(3):\n",
    "        print(f\"{i+1}  {' | '.join(board[i])}\")\n",
    "        if i < 2:\n",
    "            print(\"  ---+---+---\")\n",
    "\n",
    "# Example usage:\n",
    "board = [[' ', ' ', ' '], [' ', ' ', ' '], [' ', ' ', ' ']]\n",
    "print_board(board)\n",
    "\n",
    "for turn in range(9):\n",
    "    player_number = 1 if turn % 2 == 0 else 2\n",
    "    get_player_move(board, player_number)\n",
    "    print_board(board)\n",
    "\n",
    "\n"
   ]
  },
  {
   "cell_type": "markdown",
   "metadata": {},
   "source": [
    "*Exercise 9:* Use all of the previous exercises to implement a full tic-tac-toe game, where an appropriate board is drawn, 2 players are repeatedly asked for a location coordinates of where they wish to place a mark, and the game status is checked until a player wins or a draw occurs."
   ]
  },
  {
   "cell_type": "code",
   "execution_count": 46,
   "metadata": {},
   "outputs": [
    {
     "name": "stdout",
     "output_type": "stream",
     "text": [
      "Welcome to Tic-Tac-Toe!\n",
      "   A   B   C \n",
      "  --- --- ---\n",
      "1 |   |   |   |\n",
      "  --- --- ---\n",
      "2 |   |   |   |\n",
      "  --- --- ---\n",
      "3 |   |   |   |\n",
      "  --- --- ---\n"
     ]
    },
    {
     "name": "stdin",
     "output_type": "stream",
     "text": [
      "Player 1 (X), enter your move (e.g., A1):  A1\n"
     ]
    },
    {
     "name": "stdout",
     "output_type": "stream",
     "text": [
      "   A   B   C \n",
      "  --- --- ---\n",
      "1 | X |   |   |\n",
      "  --- --- ---\n",
      "2 |   |   |   |\n",
      "  --- --- ---\n",
      "3 |   |   |   |\n",
      "  --- --- ---\n",
      "   A   B   C \n",
      "  --- --- ---\n",
      "1 | X |   |   |\n",
      "  --- --- ---\n",
      "2 |   |   |   |\n",
      "  --- --- ---\n",
      "3 |   |   |   |\n",
      "  --- --- ---\n"
     ]
    },
    {
     "name": "stdin",
     "output_type": "stream",
     "text": [
      "Player 2 (O), enter your move (e.g., A1):  B1\n"
     ]
    },
    {
     "name": "stdout",
     "output_type": "stream",
     "text": [
      "   A   B   C \n",
      "  --- --- ---\n",
      "1 | X | O |   |\n",
      "  --- --- ---\n",
      "2 |   |   |   |\n",
      "  --- --- ---\n",
      "3 |   |   |   |\n",
      "  --- --- ---\n",
      "   A   B   C \n",
      "  --- --- ---\n",
      "1 | X | O |   |\n",
      "  --- --- ---\n",
      "2 |   |   |   |\n",
      "  --- --- ---\n",
      "3 |   |   |   |\n",
      "  --- --- ---\n"
     ]
    },
    {
     "name": "stdin",
     "output_type": "stream",
     "text": [
      "Player 1 (X), enter your move (e.g., A1):  B2\n"
     ]
    },
    {
     "name": "stdout",
     "output_type": "stream",
     "text": [
      "   A   B   C \n",
      "  --- --- ---\n",
      "1 | X | O |   |\n",
      "  --- --- ---\n",
      "2 |   | X |   |\n",
      "  --- --- ---\n",
      "3 |   |   |   |\n",
      "  --- --- ---\n",
      "   A   B   C \n",
      "  --- --- ---\n",
      "1 | X | O |   |\n",
      "  --- --- ---\n",
      "2 |   | X |   |\n",
      "  --- --- ---\n",
      "3 |   |   |   |\n",
      "  --- --- ---\n"
     ]
    },
    {
     "name": "stdin",
     "output_type": "stream",
     "text": [
      "Player 2 (O), enter your move (e.g., A1):  C1\n"
     ]
    },
    {
     "name": "stdout",
     "output_type": "stream",
     "text": [
      "   A   B   C \n",
      "  --- --- ---\n",
      "1 | X | O | O |\n",
      "  --- --- ---\n",
      "2 |   | X |   |\n",
      "  --- --- ---\n",
      "3 |   |   |   |\n",
      "  --- --- ---\n",
      "   A   B   C \n",
      "  --- --- ---\n",
      "1 | X | O | O |\n",
      "  --- --- ---\n",
      "2 |   | X |   |\n",
      "  --- --- ---\n",
      "3 |   |   |   |\n",
      "  --- --- ---\n"
     ]
    },
    {
     "name": "stdin",
     "output_type": "stream",
     "text": [
      "Player 1 (X), enter your move (e.g., A1):  C3\n"
     ]
    },
    {
     "name": "stdout",
     "output_type": "stream",
     "text": [
      "   A   B   C \n",
      "  --- --- ---\n",
      "1 | X | O | O |\n",
      "  --- --- ---\n",
      "2 |   | X |   |\n",
      "  --- --- ---\n",
      "3 |   |   | X |\n",
      "  --- --- ---\n",
      "Player 1 (X) wins!\n"
     ]
    }
   ],
   "source": [
    "def create_board(n):\n",
    "    return [[0 for _ in range(n)] for _ in range(n)]\n",
    "\n",
    "def draw_board(matrix):\n",
    "    n = len(matrix)\n",
    "    if n == 0:\n",
    "        return \"\"\n",
    "    m = len(matrix[0])\n",
    "    column_headers = \"  \" + \" \".join([f\"{chr(65 + i):^3}\" for i in range(m)])\n",
    "    horizontal = \"  \" + \" \".join([\"---\" for _ in range(m)])\n",
    "    rows = [column_headers, horizontal]\n",
    "    for i, row in enumerate(matrix):\n",
    "        cells = []\n",
    "        for cell in row:\n",
    "            if cell == 1:\n",
    "                cells.append(\" X \")\n",
    "            elif cell == 2:\n",
    "                cells.append(\" O \")\n",
    "            else:\n",
    "                cells.append(\"   \")\n",
    "        vertical_line = f\"{i+1} |{'|'.join(cells)}|\"\n",
    "        rows.append(vertical_line)\n",
    "        rows.append(horizontal)\n",
    "    return '\\n'.join(rows)\n",
    "\n",
    "def check_game_status(matrix):\n",
    "    n = len(matrix)\n",
    "    if n == 0:\n",
    "        return 0\n",
    "    for row in matrix:\n",
    "        if all(cell == 1 for cell in row):\n",
    "            return 1\n",
    "        if all(cell == 2 for cell in row):\n",
    "            return 2\n",
    "    for col in range(n):\n",
    "        column = [matrix[row][col] for row in range(n)]\n",
    "        if all(cell == 1 for cell in column):\n",
    "            return 1\n",
    "        if all(cell == 2 for cell in column):\n",
    "            return 2\n",
    "    diagonal = [matrix[i][i] for i in range(n)]\n",
    "    if all(cell == 1 for cell in diagonal):\n",
    "        return 1\n",
    "    if all(cell == 2 for cell in diagonal):\n",
    "        return 2\n",
    "    anti_diagonal = [matrix[i][n-1-i] for i in range(n)]\n",
    "    if all(cell == 1 for cell in anti_diagonal):\n",
    "        return 1\n",
    "    if all(cell == 2 for cell in anti_diagonal):\n",
    "        return 2\n",
    "    for row in matrix:\n",
    "        if 0 in row:\n",
    "            return -1\n",
    "    return 0\n",
    "\n",
    "def place_piece(board, player, x, y):\n",
    "    n = len(board)\n",
    "    if x < 0 or x >= n or y < 0 or y >= n:\n",
    "        return False\n",
    "    if board[x][y] != 0:\n",
    "        return False\n",
    "    if player not in (1, 2):\n",
    "        return False\n",
    "    board[x][y] = player\n",
    "    return True\n",
    "\n",
    "def place_piece_with_labels(board, player, location):\n",
    "    if not isinstance(location, str) or len(location) < 2:\n",
    "        return False\n",
    "    col_char = location[0].upper()\n",
    "    row_str = location[1:]\n",
    "    if not col_char.isalpha():\n",
    "        return False\n",
    "    if not row_str.isdigit():\n",
    "        return False\n",
    "    y = ord(col_char) - ord('A')\n",
    "    try:\n",
    "        x = int(row_str) - 1\n",
    "    except ValueError:\n",
    "        return False\n",
    "    n = len(board)\n",
    "    if x < 0 or x >= n or y < 0 or y >= n:\n",
    "        return False\n",
    "    return place_piece(board, player, x, y)\n",
    "\n",
    "def get_player_move(board, player):\n",
    "    symbol = 'X' if player == 1 else 'O'\n",
    "    while True:\n",
    "        print(draw_board(board))\n",
    "        location = input(f\"Player {player} ({symbol}), enter your move (e.g., A1): \").strip().upper()\n",
    "        if place_piece_with_labels(board, player, location):\n",
    "            break\n",
    "        print(\"Invalid move. Please try again.\")\n",
    "    print(draw_board(board))\n",
    "\n",
    "def main():\n",
    "    print(\"Welcome to Tic-Tac-Toe!\")\n",
    "    n = 3  # Default to 3x3 board\n",
    "    board = create_board(n)\n",
    "    current_player = 1\n",
    "    game_status = -1\n",
    "\n",
    "    while game_status == -1:\n",
    "        get_player_move(board, current_player)\n",
    "        game_status = check_game_status(board)\n",
    "        if game_status != -1:\n",
    "            break\n",
    "        current_player = 2 if current_player == 1 else 1\n",
    "\n",
    "    if game_status == 0:\n",
    "        print(\"Game over! It's a draw.\")\n",
    "    elif game_status == 1:\n",
    "        print(\"Player 1 (X) wins!\")\n",
    "    elif game_status == 2:\n",
    "        print(\"Player 2 (O) wins!\")\n",
    "\n",
    "if __name__ == \"__main__\":\n",
    "    main()"
   ]
  },
  {
   "cell_type": "markdown",
   "metadata": {},
   "source": [
    "*Exercise 10:* Test that your game works for 5x5 Tic Tac Toe.  "
   ]
  },
  {
   "cell_type": "code",
   "execution_count": null,
   "metadata": {},
   "outputs": [
    {
     "name": "stdout",
     "output_type": "stream",
     "text": [
      "Welcome to 5x5 Tic-Tac-Toe!\n",
      "   A   B   C   D   E\n",
      "1     |   |   |   |   \n",
      "  ---+---+---+---+---\n",
      "2     |   |   |   |   \n",
      "  ---+---+---+---+---\n",
      "3     |   |   |   |   \n",
      "  ---+---+---+---+---\n",
      "4     |   |   |   |   \n",
      "  ---+---+---+---+---\n",
      "5     |   |   |   |   \n"
     ]
    },
    {
     "name": "stdin",
     "output_type": "stream",
     "text": [
      "Player 1 (X), enter your move (e.g., A1):  A1\n"
     ]
    },
    {
     "name": "stdout",
     "output_type": "stream",
     "text": [
      "   A   B   C   D   E\n",
      "1   X |   |   |   |   \n",
      "  ---+---+---+---+---\n",
      "2     |   |   |   |   \n",
      "  ---+---+---+---+---\n",
      "3     |   |   |   |   \n",
      "  ---+---+---+---+---\n",
      "4     |   |   |   |   \n",
      "  ---+---+---+---+---\n",
      "5     |   |   |   |   \n"
     ]
    },
    {
     "name": "stdin",
     "output_type": "stream",
     "text": [
      "Player 2 (O), enter your move (e.g., A1):  B2\n"
     ]
    },
    {
     "name": "stdout",
     "output_type": "stream",
     "text": [
      "   A   B   C   D   E\n",
      "1   X |   |   |   |   \n",
      "  ---+---+---+---+---\n",
      "2     | O |   |   |   \n",
      "  ---+---+---+---+---\n",
      "3     |   |   |   |   \n",
      "  ---+---+---+---+---\n",
      "4     |   |   |   |   \n",
      "  ---+---+---+---+---\n",
      "5     |   |   |   |   \n"
     ]
    },
    {
     "name": "stdin",
     "output_type": "stream",
     "text": [
      "Player 1 (X), enter your move (e.g., A1):  A2\n"
     ]
    },
    {
     "name": "stdout",
     "output_type": "stream",
     "text": [
      "   A   B   C   D   E\n",
      "1   X |   |   |   |   \n",
      "  ---+---+---+---+---\n",
      "2   X | O |   |   |   \n",
      "  ---+---+---+---+---\n",
      "3     |   |   |   |   \n",
      "  ---+---+---+---+---\n",
      "4     |   |   |   |   \n",
      "  ---+---+---+---+---\n",
      "5     |   |   |   |   \n"
     ]
    },
    {
     "name": "stdin",
     "output_type": "stream",
     "text": [
      "Player 2 (O), enter your move (e.g., A1):  C3\n"
     ]
    },
    {
     "name": "stdout",
     "output_type": "stream",
     "text": [
      "   A   B   C   D   E\n",
      "1   X |   |   |   |   \n",
      "  ---+---+---+---+---\n",
      "2   X | O |   |   |   \n",
      "  ---+---+---+---+---\n",
      "3     |   | O |   |   \n",
      "  ---+---+---+---+---\n",
      "4     |   |   |   |   \n",
      "  ---+---+---+---+---\n",
      "5     |   |   |   |   \n"
     ]
    }
   ],
   "source": [
    "def create_board(n):\n",
    "    return [[0 for _ in range(n)] for _ in range(n)]\n",
    "\n",
    "def draw_board(matrix):\n",
    "    n = len(matrix)\n",
    "    if n == 0:\n",
    "        return \"\"\n",
    "    column_headers = \"   \" + \"   \".join([chr(65 + i) for i in range(n)])\n",
    "    horizontal = \"  \" + \"+\".join([\"---\" for _ in range(n)])\n",
    "    rows = [column_headers]\n",
    "    for i in range(n):\n",
    "        row = matrix[i]\n",
    "        cells = []\n",
    "        for cell in row:\n",
    "            if cell == 1:\n",
    "                cells.append(\" X \")\n",
    "            elif cell == 2:\n",
    "                cells.append(\" O \")\n",
    "            else:\n",
    "                cells.append(\"   \")\n",
    "        row_str = f\"{i+1}  {'|'.join(cells)}\"\n",
    "        rows.append(row_str)\n",
    "        if i < n - 1:\n",
    "            rows.append(horizontal)\n",
    "    return '\\n'.join(rows)\n",
    "\n",
    "def check_game_status(matrix):\n",
    "    n = len(matrix)\n",
    "    # Check rows and columns for 3 consecutive marks\n",
    "    for i in range(n):\n",
    "        for j in range(n - 2):\n",
    "            # Horizontal\n",
    "            if matrix[i][j] == matrix[i][j+1] == matrix[i][j+2] != 0:\n",
    "                return matrix[i][j]\n",
    "            # Vertical\n",
    "            if matrix[j][i] == matrix[j+1][i] == matrix[j+2][i] != 0:\n",
    "                return matrix[j][i]\n",
    "    # Check diagonals\n",
    "    for i in range(n - 2):\n",
    "        for j in range(n - 2):\n",
    "            # Diagonal (top-left to bottom-right)\n",
    "            if matrix[i][j] == matrix[i+1][j+1] == matrix[i+2][j+2] != 0:\n",
    "                return matrix[i][j]\n",
    "            # Diagonal (top-right to bottom-left)\n",
    "            if matrix[i][j+2] == matrix[i+1][j+1] == matrix[i+2][j] != 0:\n",
    "                return matrix[i][j+2]\n",
    "    # Check for draw\n",
    "    if all(cell != 0 for row in matrix for cell in row):\n",
    "        return 0\n",
    "    return -1\n",
    "\n",
    "def place_piece(board, player, x, y):\n",
    "    n = len(board)\n",
    "    if x < 0 or x >= n or y < 0 or y >= n:\n",
    "        return False\n",
    "    if board[x][y] != 0:\n",
    "        return False\n",
    "    if player not in (1, 2):\n",
    "        return False\n",
    "    board[x][y] = player\n",
    "    return True\n",
    "\n",
    "def place_piece_with_labels(board, player, location):\n",
    "    if not isinstance(location, str) or len(location) < 2:\n",
    "        return False\n",
    "    col_char = location[0].upper()\n",
    "    row_str = location[1:]\n",
    "    if not col_char.isalpha() or not row_str.isdigit():\n",
    "        return False\n",
    "    y = ord(col_char) - ord('A')\n",
    "    x = int(row_str) - 1\n",
    "    n = len(board)\n",
    "    if x < 0 or x >= n or y < 0 or y >= n:\n",
    "        return False\n",
    "    return place_piece(board, player, x, y)\n",
    "\n",
    "def get_player_move(board, player):\n",
    "    symbol = 'X' if player == 1 else 'O'\n",
    "    while True:\n",
    "        print(draw_board(board))\n",
    "        location = input(f\"Player {player} ({symbol}), enter your move (e.g., A1): \").strip().upper()\n",
    "        if place_piece_with_labels(board, player, location):\n",
    "            break\n",
    "        print(\"Invalid move. Please try again.\")\n",
    "\n",
    "def main():\n",
    "    print(\"Welcome to 5x5 Tic-Tac-Toe!\")\n",
    "    n = 5\n",
    "    board = create_board(n)\n",
    "    current_player = 1\n",
    "    game_status = -1\n",
    "\n",
    "    while game_status == -1:\n",
    "        get_player_move(board, current_player)\n",
    "        game_status = check_game_status(board)\n",
    "        if game_status != -1:\n",
    "            break\n",
    "        current_player = 2 if current_player == 1 else 1\n",
    "\n",
    "    print(draw_board(board))\n",
    "    if game_status == 0:\n",
    "        print(\"Game over! It's a draw.\")\n",
    "    else:\n",
    "        print(f\"Player {game_status} ({'X' if game_status == 1 else 'O'}) wins!\")\n",
    "\n",
    "if __name__ == \"__main__\":\n",
    "    main()"
   ]
  },
  {
   "cell_type": "markdown",
   "metadata": {},
   "source": [
    "*Exercise 11:* (Advanced / Challenge) Develop a version of the game where one player is the computer. Note that you don't need to do an extensive seach for the best move. You can have the computer simply protect against loosing and otherwise try to win with straight or diagonal patterns."
   ]
  },
  {
   "cell_type": "code",
   "execution_count": null,
   "metadata": {
    "collapsed": true,
    "jupyter": {
     "outputs_hidden": true
    }
   },
   "outputs": [],
   "source": [
    "# Write you solution here"
   ]
  },
  {
   "cell_type": "code",
   "execution_count": null,
   "metadata": {
    "collapsed": true,
    "jupyter": {
     "outputs_hidden": true
    }
   },
   "outputs": [],
   "source": [
    "# Test your solution here"
   ]
  }
 ],
 "metadata": {
  "kernelspec": {
   "display_name": "Python [conda env:base] *",
   "language": "python",
   "name": "conda-base-py"
  },
  "language_info": {
   "codemirror_mode": {
    "name": "ipython",
    "version": 3
   },
   "file_extension": ".py",
   "mimetype": "text/x-python",
   "name": "python",
   "nbconvert_exporter": "python",
   "pygments_lexer": "ipython3",
   "version": "3.12.7"
  }
 },
 "nbformat": 4,
 "nbformat_minor": 4
}
